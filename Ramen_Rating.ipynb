{
 "cells": [
  {
   "cell_type": "markdown",
   "metadata": {},
   "source": [
    "# RAMEN RATING DATASET ANALYSIS"
   ]
  },
  {
   "cell_type": "markdown",
   "metadata": {},
   "source": [
    "### This dataset shows the different varieties of ramen in diferent countries according to their brand, style and the number of stars they get."
   ]
  },
  {
   "cell_type": "markdown",
   "metadata": {},
   "source": [
    "#### AIMS\n",
    "1. To know which Brand has more products.\n",
    "2. To know which packaging is mostly used.\n",
    "3. To know about the Top 10 variety in 2012 and 2016\n",
    "4. To know the country that has more products and how many stars their products get."
   ]
  },
  {
   "cell_type": "markdown",
   "metadata": {},
   "source": [
    "##### Importing modules"
   ]
  },
  {
   "cell_type": "code",
   "execution_count": 35,
   "metadata": {},
   "outputs": [],
   "source": [
    "import pandas as pd\n",
    "import numpy as np\n",
    "import matplotlib.pyplot as plt\n",
    "import seaborn as sns\n",
    "%matplotlib inline"
   ]
  },
  {
   "cell_type": "markdown",
   "metadata": {},
   "source": [
    "##### Loading and reading Ramen-Rating.csv file"
   ]
  },
  {
   "cell_type": "code",
   "execution_count": 36,
   "metadata": {},
   "outputs": [
    {
     "data": {
      "text/html": [
       "<div>\n",
       "<style scoped>\n",
       "    .dataframe tbody tr th:only-of-type {\n",
       "        vertical-align: middle;\n",
       "    }\n",
       "\n",
       "    .dataframe tbody tr th {\n",
       "        vertical-align: top;\n",
       "    }\n",
       "\n",
       "    .dataframe thead th {\n",
       "        text-align: right;\n",
       "    }\n",
       "</style>\n",
       "<table border=\"1\" class=\"dataframe\">\n",
       "  <thead>\n",
       "    <tr style=\"text-align: right;\">\n",
       "      <th></th>\n",
       "      <th>Review #</th>\n",
       "      <th>Brand</th>\n",
       "      <th>Variety</th>\n",
       "      <th>Style</th>\n",
       "      <th>Country</th>\n",
       "      <th>Stars</th>\n",
       "      <th>Top Ten</th>\n",
       "    </tr>\n",
       "  </thead>\n",
       "  <tbody>\n",
       "    <tr>\n",
       "      <th>0</th>\n",
       "      <td>2580</td>\n",
       "      <td>New Touch</td>\n",
       "      <td>T's Restaurant Tantanmen</td>\n",
       "      <td>Cup</td>\n",
       "      <td>Japan</td>\n",
       "      <td>3.75</td>\n",
       "      <td>NaN</td>\n",
       "    </tr>\n",
       "    <tr>\n",
       "      <th>1</th>\n",
       "      <td>2579</td>\n",
       "      <td>Just Way</td>\n",
       "      <td>Noodles Spicy Hot Sesame Spicy Hot Sesame Guan...</td>\n",
       "      <td>Pack</td>\n",
       "      <td>Taiwan</td>\n",
       "      <td>1</td>\n",
       "      <td>NaN</td>\n",
       "    </tr>\n",
       "    <tr>\n",
       "      <th>2</th>\n",
       "      <td>2578</td>\n",
       "      <td>Nissin</td>\n",
       "      <td>Cup Noodles Chicken Vegetable</td>\n",
       "      <td>Cup</td>\n",
       "      <td>USA</td>\n",
       "      <td>2.25</td>\n",
       "      <td>NaN</td>\n",
       "    </tr>\n",
       "    <tr>\n",
       "      <th>3</th>\n",
       "      <td>2577</td>\n",
       "      <td>Wei Lih</td>\n",
       "      <td>GGE Ramen Snack Tomato Flavor</td>\n",
       "      <td>Pack</td>\n",
       "      <td>Taiwan</td>\n",
       "      <td>2.75</td>\n",
       "      <td>NaN</td>\n",
       "    </tr>\n",
       "    <tr>\n",
       "      <th>4</th>\n",
       "      <td>2576</td>\n",
       "      <td>Ching's Secret</td>\n",
       "      <td>Singapore Curry</td>\n",
       "      <td>Pack</td>\n",
       "      <td>India</td>\n",
       "      <td>3.75</td>\n",
       "      <td>NaN</td>\n",
       "    </tr>\n",
       "  </tbody>\n",
       "</table>\n",
       "</div>"
      ],
      "text/plain": [
       "   Review #           Brand  \\\n",
       "0      2580       New Touch   \n",
       "1      2579        Just Way   \n",
       "2      2578          Nissin   \n",
       "3      2577         Wei Lih   \n",
       "4      2576  Ching's Secret   \n",
       "\n",
       "                                             Variety Style Country Stars  \\\n",
       "0                          T's Restaurant Tantanmen    Cup   Japan  3.75   \n",
       "1  Noodles Spicy Hot Sesame Spicy Hot Sesame Guan...  Pack  Taiwan     1   \n",
       "2                      Cup Noodles Chicken Vegetable   Cup     USA  2.25   \n",
       "3                      GGE Ramen Snack Tomato Flavor  Pack  Taiwan  2.75   \n",
       "4                                    Singapore Curry  Pack   India  3.75   \n",
       "\n",
       "  Top Ten  \n",
       "0     NaN  \n",
       "1     NaN  \n",
       "2     NaN  \n",
       "3     NaN  \n",
       "4     NaN  "
      ]
     },
     "execution_count": 36,
     "metadata": {},
     "output_type": "execute_result"
    }
   ],
   "source": [
    "rate = pd.read_csv('ramen-ratings.csv')\n",
    "rate.head()"
   ]
  },
  {
   "cell_type": "code",
   "execution_count": 37,
   "metadata": {},
   "outputs": [
    {
     "name": "stdout",
     "output_type": "stream",
     "text": [
      "<class 'pandas.core.frame.DataFrame'>\n",
      "RangeIndex: 2580 entries, 0 to 2579\n",
      "Data columns (total 7 columns):\n",
      "Review #    2580 non-null int64\n",
      "Brand       2580 non-null object\n",
      "Variety     2580 non-null object\n",
      "Style       2578 non-null object\n",
      "Country     2580 non-null object\n",
      "Stars       2580 non-null object\n",
      "Top Ten     41 non-null object\n",
      "dtypes: int64(1), object(6)\n",
      "memory usage: 80.7+ KB\n"
     ]
    }
   ],
   "source": [
    "# Column Information\n",
    "rate.info()"
   ]
  },
  {
   "cell_type": "markdown",
   "metadata": {},
   "source": [
    "we can see that oout of 7 columns, 6 are of object type and the last one an integer.\n",
    "5 of them has no NaN values, Style has 2 NaN values and Top Ten has 2539 NaN values."
   ]
  },
  {
   "cell_type": "code",
   "execution_count": 38,
   "metadata": {},
   "outputs": [
    {
     "data": {
      "text/plain": [
       "array(['3.75', '1', '2.25', '2.75', '4.75', '4', '0.25', '2.5', '5',\n",
       "       '4.25', '4.5', '3.5', 'Unrated', '1.5', '3.25', '2', '0', '3',\n",
       "       '0.5', '4.00', '5.0', '3.50', '3.8', '4.3', '2.3', '5.00', '3.3',\n",
       "       '4.0', '3.00', '1.75', '3.0', '4.50', '0.75', '1.25', '1.1', '2.1',\n",
       "       '0.9', '3.1', '4.125', '3.125', '2.125', '2.9', '0.1', '2.8',\n",
       "       '3.7', '3.4', '3.6', '2.85', '3.2', '3.65', '1.8'], dtype=object)"
      ]
     },
     "execution_count": 38,
     "metadata": {},
     "output_type": "execute_result"
    }
   ],
   "source": [
    "# Checking the values used\n",
    "rate['Stars'].unique()"
   ]
  },
  {
   "cell_type": "raw",
   "metadata": {},
   "source": [
    "We notice that\n",
    "*some values apeared twice.\n",
    "*Also there are some unrated variety."
   ]
  },
  {
   "cell_type": "markdown",
   "metadata": {},
   "source": [
    "##### Separating the rated from the unrated."
   ]
  },
  {
   "cell_type": "code",
   "execution_count": 39,
   "metadata": {},
   "outputs": [
    {
     "data": {
      "text/html": [
       "<div>\n",
       "<style scoped>\n",
       "    .dataframe tbody tr th:only-of-type {\n",
       "        vertical-align: middle;\n",
       "    }\n",
       "\n",
       "    .dataframe tbody tr th {\n",
       "        vertical-align: top;\n",
       "    }\n",
       "\n",
       "    .dataframe thead th {\n",
       "        text-align: right;\n",
       "    }\n",
       "</style>\n",
       "<table border=\"1\" class=\"dataframe\">\n",
       "  <thead>\n",
       "    <tr style=\"text-align: right;\">\n",
       "      <th></th>\n",
       "      <th>Review #</th>\n",
       "      <th>Brand</th>\n",
       "      <th>Variety</th>\n",
       "      <th>Style</th>\n",
       "      <th>Country</th>\n",
       "      <th>Stars</th>\n",
       "      <th>Top Ten</th>\n",
       "    </tr>\n",
       "  </thead>\n",
       "  <tbody>\n",
       "    <tr>\n",
       "      <th>32</th>\n",
       "      <td>2548</td>\n",
       "      <td>Ottogi</td>\n",
       "      <td>Plain Instant Noodle No Soup Included</td>\n",
       "      <td>Pack</td>\n",
       "      <td>South Korea</td>\n",
       "      <td>Unrated</td>\n",
       "      <td>NaN</td>\n",
       "    </tr>\n",
       "    <tr>\n",
       "      <th>122</th>\n",
       "      <td>2458</td>\n",
       "      <td>Samyang Foods</td>\n",
       "      <td>Sari Ramen</td>\n",
       "      <td>Pack</td>\n",
       "      <td>South Korea</td>\n",
       "      <td>Unrated</td>\n",
       "      <td>NaN</td>\n",
       "    </tr>\n",
       "    <tr>\n",
       "      <th>993</th>\n",
       "      <td>1587</td>\n",
       "      <td>Mi E-Zee</td>\n",
       "      <td>Plain Noodles</td>\n",
       "      <td>Pack</td>\n",
       "      <td>Malaysia</td>\n",
       "      <td>Unrated</td>\n",
       "      <td>NaN</td>\n",
       "    </tr>\n",
       "  </tbody>\n",
       "</table>\n",
       "</div>"
      ],
      "text/plain": [
       "     Review #          Brand                                Variety Style  \\\n",
       "32       2548         Ottogi  Plain Instant Noodle No Soup Included  Pack   \n",
       "122      2458  Samyang Foods                             Sari Ramen  Pack   \n",
       "993      1587       Mi E-Zee                          Plain Noodles  Pack   \n",
       "\n",
       "         Country    Stars Top Ten  \n",
       "32   South Korea  Unrated     NaN  \n",
       "122  South Korea  Unrated     NaN  \n",
       "993     Malaysia  Unrated     NaN  "
      ]
     },
     "execution_count": 39,
     "metadata": {},
     "output_type": "execute_result"
    }
   ],
   "source": [
    "# Making Unrated from stars the subject\n",
    "Str = np.where(rate['Stars'] == 'Unrated')\n",
    "unrated = rate.loc[Str]\n",
    "unrated"
   ]
  },
  {
   "cell_type": "markdown",
   "metadata": {},
   "source": [
    "The country with the most unrated is south korea. We can also see that they have the same style (packing)"
   ]
  },
  {
   "cell_type": "code",
   "execution_count": 40,
   "metadata": {},
   "outputs": [
    {
     "data": {
      "text/html": [
       "<div>\n",
       "<style scoped>\n",
       "    .dataframe tbody tr th:only-of-type {\n",
       "        vertical-align: middle;\n",
       "    }\n",
       "\n",
       "    .dataframe tbody tr th {\n",
       "        vertical-align: top;\n",
       "    }\n",
       "\n",
       "    .dataframe thead th {\n",
       "        text-align: right;\n",
       "    }\n",
       "</style>\n",
       "<table border=\"1\" class=\"dataframe\">\n",
       "  <thead>\n",
       "    <tr style=\"text-align: right;\">\n",
       "      <th></th>\n",
       "      <th>Review #</th>\n",
       "      <th>Brand</th>\n",
       "      <th>Variety</th>\n",
       "      <th>Style</th>\n",
       "      <th>Country</th>\n",
       "      <th>Stars</th>\n",
       "      <th>Top Ten</th>\n",
       "    </tr>\n",
       "  </thead>\n",
       "  <tbody>\n",
       "    <tr>\n",
       "      <th>0</th>\n",
       "      <td>2580</td>\n",
       "      <td>New Touch</td>\n",
       "      <td>T's Restaurant Tantanmen</td>\n",
       "      <td>Cup</td>\n",
       "      <td>Japan</td>\n",
       "      <td>3.75</td>\n",
       "      <td>NaN</td>\n",
       "    </tr>\n",
       "    <tr>\n",
       "      <th>1</th>\n",
       "      <td>2579</td>\n",
       "      <td>Just Way</td>\n",
       "      <td>Noodles Spicy Hot Sesame Spicy Hot Sesame Guan...</td>\n",
       "      <td>Pack</td>\n",
       "      <td>Taiwan</td>\n",
       "      <td>1</td>\n",
       "      <td>NaN</td>\n",
       "    </tr>\n",
       "    <tr>\n",
       "      <th>2</th>\n",
       "      <td>2578</td>\n",
       "      <td>Nissin</td>\n",
       "      <td>Cup Noodles Chicken Vegetable</td>\n",
       "      <td>Cup</td>\n",
       "      <td>USA</td>\n",
       "      <td>2.25</td>\n",
       "      <td>NaN</td>\n",
       "    </tr>\n",
       "    <tr>\n",
       "      <th>3</th>\n",
       "      <td>2577</td>\n",
       "      <td>Wei Lih</td>\n",
       "      <td>GGE Ramen Snack Tomato Flavor</td>\n",
       "      <td>Pack</td>\n",
       "      <td>Taiwan</td>\n",
       "      <td>2.75</td>\n",
       "      <td>NaN</td>\n",
       "    </tr>\n",
       "    <tr>\n",
       "      <th>4</th>\n",
       "      <td>2576</td>\n",
       "      <td>Ching's Secret</td>\n",
       "      <td>Singapore Curry</td>\n",
       "      <td>Pack</td>\n",
       "      <td>India</td>\n",
       "      <td>3.75</td>\n",
       "      <td>NaN</td>\n",
       "    </tr>\n",
       "  </tbody>\n",
       "</table>\n",
       "</div>"
      ],
      "text/plain": [
       "   Review #           Brand  \\\n",
       "0      2580       New Touch   \n",
       "1      2579        Just Way   \n",
       "2      2578          Nissin   \n",
       "3      2577         Wei Lih   \n",
       "4      2576  Ching's Secret   \n",
       "\n",
       "                                             Variety Style Country Stars  \\\n",
       "0                          T's Restaurant Tantanmen    Cup   Japan  3.75   \n",
       "1  Noodles Spicy Hot Sesame Spicy Hot Sesame Guan...  Pack  Taiwan     1   \n",
       "2                      Cup Noodles Chicken Vegetable   Cup     USA  2.25   \n",
       "3                      GGE Ramen Snack Tomato Flavor  Pack  Taiwan  2.75   \n",
       "4                                    Singapore Curry  Pack   India  3.75   \n",
       "\n",
       "  Top Ten  \n",
       "0     NaN  \n",
       "1     NaN  \n",
       "2     NaN  \n",
       "3     NaN  \n",
       "4     NaN  "
      ]
     },
     "execution_count": 40,
     "metadata": {},
     "output_type": "execute_result"
    }
   ],
   "source": [
    "# From thooose that have rated values\n",
    "Str = np.where(rate['Stars'] != 'Unrated')\n",
    "rated = rate.loc[Str]\n",
    "rated.head()"
   ]
  },
  {
   "cell_type": "code",
   "execution_count": 41,
   "metadata": {},
   "outputs": [
    {
     "data": {
      "text/plain": [
       "array([3.75 , 1.   , 2.25 , 2.75 , 4.75 , 4.   , 0.25 , 2.5  , 5.   ,\n",
       "       4.25 , 4.5  , 3.5  , 1.5  , 3.25 , 2.   , 0.   , 3.   , 0.5  ,\n",
       "       3.8  , 4.3  , 2.3  , 3.3  , 1.75 , 0.75 , 1.25 , 1.1  , 2.1  ,\n",
       "       0.9  , 3.1  , 4.125, 3.125, 2.125, 2.9  , 0.1  , 2.8  , 3.7  ,\n",
       "       3.4  , 3.6  , 2.85 , 3.2  , 3.65 , 1.8  ])"
      ]
     },
     "execution_count": 41,
     "metadata": {},
     "output_type": "execute_result"
    }
   ],
   "source": [
    "rated['Stars'] = np.array(rated['Stars']).astype(float)\n",
    "rated['Stars'].unique()"
   ]
  },
  {
   "cell_type": "markdown",
   "metadata": {},
   "source": [
    "From the above, we see that the values appears only once unlike the former"
   ]
  },
  {
   "cell_type": "code",
   "execution_count": 42,
   "metadata": {},
   "outputs": [
    {
     "name": "stdout",
     "output_type": "stream",
     "text": [
      "<class 'pandas.core.frame.DataFrame'>\n",
      "Int64Index: 2577 entries, 0 to 2579\n",
      "Data columns (total 7 columns):\n",
      "Review #    2577 non-null int64\n",
      "Brand       2577 non-null object\n",
      "Variety     2577 non-null object\n",
      "Style       2575 non-null object\n",
      "Country     2577 non-null object\n",
      "Stars       2577 non-null float64\n",
      "Top Ten     41 non-null object\n",
      "dtypes: float64(1), int64(1), object(5)\n",
      "memory usage: 110.7+ KB\n"
     ]
    }
   ],
   "source": [
    "rated.info()"
   ]
  },
  {
   "cell_type": "markdown",
   "metadata": {},
   "source": [
    "Seeing that we converted the stars from string to float to obtain uniform values. The information on Stars has changed."
   ]
  },
  {
   "cell_type": "markdown",
   "metadata": {},
   "source": [
    "#### What brand has the most production?"
   ]
  },
  {
   "cell_type": "code",
   "execution_count": 43,
   "metadata": {},
   "outputs": [
    {
     "data": {
      "text/plain": [
       "Nissin      381\n",
       "Nongshim     98\n",
       "Maruchan     76\n",
       "Mama         71\n",
       "Paldo        66\n",
       "Name: Brand, dtype: int64"
      ]
     },
     "execution_count": 43,
     "metadata": {},
     "output_type": "execute_result"
    }
   ],
   "source": [
    "Brand = rate['Brand']\n",
    "Brand.value_counts().head()\n",
    "# The Nissin Brand has more product."
   ]
  },
  {
   "cell_type": "markdown",
   "metadata": {},
   "source": [
    "The Brand with the most count is Nissin. Meaning Nissin has the most production."
   ]
  },
  {
   "cell_type": "markdown",
   "metadata": {},
   "source": [
    "#### Which packaging style is mostly used?"
   ]
  },
  {
   "cell_type": "code",
   "execution_count": 44,
   "metadata": {},
   "outputs": [
    {
     "data": {
      "text/plain": [
       "Pack    1531\n",
       "Bowl     481\n",
       "Cup      450\n",
       "Tray     108\n",
       "Box        6\n",
       "Bar        1\n",
       "Can        1\n",
       "Name: Style, dtype: int64"
      ]
     },
     "execution_count": 44,
     "metadata": {},
     "output_type": "execute_result"
    }
   ],
   "source": [
    "style = rate['Style']\n",
    "style_count = style.value_counts()\n",
    "style_count"
   ]
  },
  {
   "cell_type": "markdown",
   "metadata": {},
   "source": [
    "We discover that ramen is being sold mostly in Pack style."
   ]
  },
  {
   "cell_type": "markdown",
   "metadata": {},
   "source": [
    "### Style Rating"
   ]
  },
  {
   "cell_type": "code",
   "execution_count": 45,
   "metadata": {},
   "outputs": [
    {
     "data": {
      "text/plain": [
       "5.00    240\n",
       "4.00    223\n",
       "3.75    203\n",
       "3.50    197\n",
       "3.25    112\n",
       "Name: Stars, dtype: int64"
      ]
     },
     "execution_count": 45,
     "metadata": {},
     "output_type": "execute_result"
    }
   ],
   "source": [
    "pack_rate = rated['Stars'].loc[np.where(rated['Style'] == 'Pack')]\n",
    "pack_rate.value_counts().head()"
   ]
  },
  {
   "cell_type": "code",
   "execution_count": 46,
   "metadata": {},
   "outputs": [
    {
     "data": {
      "text/plain": [
       "3.75    74\n",
       "4.00    68\n",
       "3.50    63\n",
       "5.00    49\n",
       "3.00    40\n",
       "Name: Stars, dtype: int64"
      ]
     },
     "execution_count": 46,
     "metadata": {},
     "output_type": "execute_result"
    }
   ],
   "source": [
    "Bowl_rate = rated['Stars'].loc[np.where(rated['Style'] == 'Bowl')]\n",
    "Bowl_rate.value_counts().head()"
   ]
  },
  {
   "cell_type": "code",
   "execution_count": 47,
   "metadata": {},
   "outputs": [
    {
     "data": {
      "text/plain": [
       "4.00    83\n",
       "5.00    81\n",
       "3.50    63\n",
       "3.75    57\n",
       "3.00    30\n",
       "Name: Stars, dtype: int64"
      ]
     },
     "execution_count": 47,
     "metadata": {},
     "output_type": "execute_result"
    }
   ],
   "source": [
    "Cup_rate = rated['Stars'].loc[np.where(rated['Style'] == 'Cup')]\n",
    "Cup_rate.value_counts().head()"
   ]
  },
  {
   "cell_type": "code",
   "execution_count": 48,
   "metadata": {},
   "outputs": [
    {
     "data": {
      "text/plain": [
       "4.00    17\n",
       "3.75    14\n",
       "5.00    14\n",
       "3.50    12\n",
       "4.25     9\n",
       "Name: Stars, dtype: int64"
      ]
     },
     "execution_count": 48,
     "metadata": {},
     "output_type": "execute_result"
    }
   ],
   "source": [
    "Tray_rate = rated['Stars'].loc[np.where(rated['Style'] == 'Tray')]\n",
    "Tray_rate.value_counts().head()"
   ]
  },
  {
   "cell_type": "code",
   "execution_count": 49,
   "metadata": {},
   "outputs": [
    {
     "data": {
      "text/plain": [
       "3.75    2\n",
       "5.00    2\n",
       "2.50    1\n",
       "4.00    1\n",
       "Name: Stars, dtype: int64"
      ]
     },
     "execution_count": 49,
     "metadata": {},
     "output_type": "execute_result"
    }
   ],
   "source": [
    "Box_rate = rated['Stars'].loc[np.where(rated['Style'] == 'Box')]\n",
    "Box_rate.value_counts().head()"
   ]
  },
  {
   "cell_type": "code",
   "execution_count": 50,
   "metadata": {},
   "outputs": [
    {
     "data": {
      "text/plain": [
       "4.0    1\n",
       "Name: Stars, dtype: int64"
      ]
     },
     "execution_count": 50,
     "metadata": {},
     "output_type": "execute_result"
    }
   ],
   "source": [
    "Bar_rate = rated['Stars'].loc[np.where(rated['Style'] == 'Bar')]\n",
    "Bar_rate.value_counts().head()"
   ]
  },
  {
   "cell_type": "code",
   "execution_count": 51,
   "metadata": {},
   "outputs": [
    {
     "data": {
      "text/plain": [
       "4.5    1\n",
       "Name: Stars, dtype: int64"
      ]
     },
     "execution_count": 51,
     "metadata": {},
     "output_type": "execute_result"
    }
   ],
   "source": [
    "Can_rate = rated['Stars'].loc[np.where(rated['Style'] == 'Can')]\n",
    "Can_rate.value_counts().head()"
   ]
  },
  {
   "cell_type": "markdown",
   "metadata": {},
   "source": [
    "This shows that the highest ratings goes to the Packed style."
   ]
  },
  {
   "cell_type": "code",
   "execution_count": 52,
   "metadata": {},
   "outputs": [
    {
     "name": "stderr",
     "output_type": "stream",
     "text": [
      "/data/user/0/ru.iiec.pydroid3/files/arm-linux-androideabi/lib/python3.7/site-packages/ipykernel_launcher.py:3: MatplotlibDeprecationWarning: Adding an axes using the same arguments as a previous axes currently reuses the earlier instance.  In a future version, a new instance will always be created and returned.  Meanwhile, this warning can be suppressed, and the future behavior ensured, by passing a unique label to each axes instance.\n",
      "  This is separate from the ipykernel package so we can avoid doing imports until\n"
     ]
    },
    {
     "data": {
      "image/png": "[encoded data removed]",
      "text/plain": [
       "<Figure size 1440x720 with 1 Axes>"
      ]
     },
     "metadata": {
      "needs_background": "light"
     },
     "output_type": "display_data"
    }
   ],
   "source": [
    "plt.figure(figsize=(20, 10))\n",
    "sns.countplot(x='Stars', data=rated)\n",
    "labels = plt.axes().get_xticklabels()\n",
    "plt.setp(labels, rotation = 60)\n",
    "plt.title('Plot of Stars Count')\n",
    "plt.show()"
   ]
  },
  {
   "cell_type": "markdown",
   "metadata": {},
   "source": [
    "From the graph, the most number of stars is shown to be 4.0 stars which is followed by 5.0 stars."
   ]
  },
  {
   "cell_type": "markdown",
   "metadata": {},
   "source": [
    "### Top Ten Varieties"
   ]
  },
  {
   "cell_type": "code",
   "execution_count": 53,
   "metadata": {},
   "outputs": [
    {
     "data": {
      "text/html": [
       "<div>\n",
       "<style scoped>\n",
       "    .dataframe tbody tr th:only-of-type {\n",
       "        vertical-align: middle;\n",
       "    }\n",
       "\n",
       "    .dataframe tbody tr th {\n",
       "        vertical-align: top;\n",
       "    }\n",
       "\n",
       "    .dataframe thead th {\n",
       "        text-align: right;\n",
       "    }\n",
       "</style>\n",
       "<table border=\"1\" class=\"dataframe\">\n",
       "  <thead>\n",
       "    <tr style=\"text-align: right;\">\n",
       "      <th></th>\n",
       "      <th>Review #</th>\n",
       "      <th>Brand</th>\n",
       "      <th>Variety</th>\n",
       "      <th>Style</th>\n",
       "      <th>Country</th>\n",
       "      <th>Stars</th>\n",
       "      <th>Top Ten</th>\n",
       "    </tr>\n",
       "  </thead>\n",
       "  <tbody>\n",
       "    <tr>\n",
       "      <th>2535</th>\n",
       "      <td>45</td>\n",
       "      <td>Indomie</td>\n",
       "      <td>Mi Goreng Sate</td>\n",
       "      <td>Pack</td>\n",
       "      <td>Indonesia</td>\n",
       "      <td>5.00</td>\n",
       "      <td>\\n</td>\n",
       "    </tr>\n",
       "    <tr>\n",
       "      <th>2248</th>\n",
       "      <td>332</td>\n",
       "      <td>Nongshim</td>\n",
       "      <td>Champong Oriental Noodles</td>\n",
       "      <td>Cup</td>\n",
       "      <td>South Korea</td>\n",
       "      <td>3.75</td>\n",
       "      <td>\\n</td>\n",
       "    </tr>\n",
       "    <tr>\n",
       "      <th>1846</th>\n",
       "      <td>734</td>\n",
       "      <td>Indomie</td>\n",
       "      <td>Mi Goreng Rasa Ayam Panggang Jumbo (Local)</td>\n",
       "      <td>Pack</td>\n",
       "      <td>Indonesia</td>\n",
       "      <td>5.00</td>\n",
       "      <td>\\n</td>\n",
       "    </tr>\n",
       "    <tr>\n",
       "      <th>1670</th>\n",
       "      <td>910</td>\n",
       "      <td>Paldo</td>\n",
       "      <td>Namja Ramyun</td>\n",
       "      <td>Bowl</td>\n",
       "      <td>South Korea</td>\n",
       "      <td>4.25</td>\n",
       "      <td>\\n</td>\n",
       "    </tr>\n",
       "    <tr>\n",
       "      <th>2475</th>\n",
       "      <td>105</td>\n",
       "      <td>Indomie</td>\n",
       "      <td>Special Fried Curly Noodle</td>\n",
       "      <td>Pack</td>\n",
       "      <td>Indonesia</td>\n",
       "      <td>5.00</td>\n",
       "      <td>2012 #1</td>\n",
       "    </tr>\n",
       "    <tr>\n",
       "      <th>1972</th>\n",
       "      <td>608</td>\n",
       "      <td>Koka</td>\n",
       "      <td>Spicy Black Pepper</td>\n",
       "      <td>Pack</td>\n",
       "      <td>Singapore</td>\n",
       "      <td>5.00</td>\n",
       "      <td>2012 #10</td>\n",
       "    </tr>\n",
       "    <tr>\n",
       "      <th>2533</th>\n",
       "      <td>47</td>\n",
       "      <td>Indomie</td>\n",
       "      <td>Mi Goreng Jumbo Barbecue Chicken</td>\n",
       "      <td>Pack</td>\n",
       "      <td>Indonesia</td>\n",
       "      <td>5.00</td>\n",
       "      <td>2012 #2</td>\n",
       "    </tr>\n",
       "    <tr>\n",
       "      <th>2188</th>\n",
       "      <td>392</td>\n",
       "      <td>Nissin</td>\n",
       "      <td>Yakisoba Noodles Karashi</td>\n",
       "      <td>Tray</td>\n",
       "      <td>Japan</td>\n",
       "      <td>5.00</td>\n",
       "      <td>2012 #3</td>\n",
       "    </tr>\n",
       "    <tr>\n",
       "      <th>2567</th>\n",
       "      <td>13</td>\n",
       "      <td>Sapporo Ichiban</td>\n",
       "      <td>Chow Mein</td>\n",
       "      <td>Pack</td>\n",
       "      <td>Japan</td>\n",
       "      <td>5.00</td>\n",
       "      <td>2012 #4</td>\n",
       "    </tr>\n",
       "    <tr>\n",
       "      <th>2146</th>\n",
       "      <td>434</td>\n",
       "      <td>Mi Sedaap</td>\n",
       "      <td>Kari Spesial</td>\n",
       "      <td>Pack</td>\n",
       "      <td>Indonesia</td>\n",
       "      <td>4.50</td>\n",
       "      <td>2012 #5</td>\n",
       "    </tr>\n",
       "  </tbody>\n",
       "</table>\n",
       "</div>"
      ],
      "text/plain": [
       "      Review #            Brand                                     Variety  \\\n",
       "2535        45          Indomie                              Mi Goreng Sate   \n",
       "2248       332         Nongshim                   Champong Oriental Noodles   \n",
       "1846       734          Indomie  Mi Goreng Rasa Ayam Panggang Jumbo (Local)   \n",
       "1670       910            Paldo                                Namja Ramyun   \n",
       "2475       105          Indomie                  Special Fried Curly Noodle   \n",
       "1972       608             Koka                          Spicy Black Pepper   \n",
       "2533        47          Indomie            Mi Goreng Jumbo Barbecue Chicken   \n",
       "2188       392           Nissin                    Yakisoba Noodles Karashi   \n",
       "2567        13  Sapporo Ichiban                                   Chow Mein   \n",
       "2146       434        Mi Sedaap                                Kari Spesial   \n",
       "\n",
       "     Style      Country  Stars   Top Ten  \n",
       "2535  Pack    Indonesia   5.00        \\n  \n",
       "2248   Cup  South Korea   3.75        \\n  \n",
       "1846  Pack    Indonesia   5.00        \\n  \n",
       "1670  Bowl  South Korea   4.25        \\n  \n",
       "2475  Pack    Indonesia   5.00   2012 #1  \n",
       "1972  Pack    Singapore   5.00  2012 #10  \n",
       "2533  Pack    Indonesia   5.00   2012 #2  \n",
       "2188  Tray        Japan   5.00   2012 #3  \n",
       "2567  Pack        Japan   5.00   2012 #4  \n",
       "2146  Pack    Indonesia   4.50   2012 #5  "
      ]
     },
     "execution_count": 53,
     "metadata": {},
     "output_type": "execute_result"
    }
   ],
   "source": [
    "top = rated.dropna().sort_values(by='Top Ten')\n",
    "top.head(10)"
   ]
  },
  {
   "cell_type": "markdown",
   "metadata": {},
   "source": [
    "#### In 2012"
   ]
  },
  {
   "cell_type": "code",
   "execution_count": 54,
   "metadata": {
    "scrolled": true
   },
   "outputs": [
    {
     "data": {
      "text/plain": [
       "array([ 4,  5,  6,  7,  8,  9, 10, 11, 12], dtype=int32)"
      ]
     },
     "execution_count": 54,
     "metadata": {},
     "output_type": "execute_result"
    }
   ],
   "source": [
    "top_2012 = np.where(top['Top Ten'].str.contains('2012'))\n",
    "top_2012 = top_2012[0]\n",
    "top_2012"
   ]
  },
  {
   "cell_type": "code",
   "execution_count": 55,
   "metadata": {},
   "outputs": [
    {
     "data": {
      "text/html": [
       "<div>\n",
       "<style scoped>\n",
       "    .dataframe tbody tr th:only-of-type {\n",
       "        vertical-align: middle;\n",
       "    }\n",
       "\n",
       "    .dataframe tbody tr th {\n",
       "        vertical-align: top;\n",
       "    }\n",
       "\n",
       "    .dataframe thead th {\n",
       "        text-align: right;\n",
       "    }\n",
       "</style>\n",
       "<table border=\"1\" class=\"dataframe\">\n",
       "  <thead>\n",
       "    <tr style=\"text-align: right;\">\n",
       "      <th></th>\n",
       "      <th>Review #</th>\n",
       "      <th>Brand</th>\n",
       "      <th>Variety</th>\n",
       "      <th>Style</th>\n",
       "      <th>Country</th>\n",
       "      <th>Stars</th>\n",
       "      <th>Top Ten</th>\n",
       "    </tr>\n",
       "  </thead>\n",
       "  <tbody>\n",
       "    <tr>\n",
       "      <th>2475</th>\n",
       "      <td>105</td>\n",
       "      <td>Indomie</td>\n",
       "      <td>Special Fried Curly Noodle</td>\n",
       "      <td>Pack</td>\n",
       "      <td>Indonesia</td>\n",
       "      <td>5.00</td>\n",
       "      <td>2012 #1</td>\n",
       "    </tr>\n",
       "    <tr>\n",
       "      <th>1972</th>\n",
       "      <td>608</td>\n",
       "      <td>Koka</td>\n",
       "      <td>Spicy Black Pepper</td>\n",
       "      <td>Pack</td>\n",
       "      <td>Singapore</td>\n",
       "      <td>5.00</td>\n",
       "      <td>2012 #10</td>\n",
       "    </tr>\n",
       "    <tr>\n",
       "      <th>2533</th>\n",
       "      <td>47</td>\n",
       "      <td>Indomie</td>\n",
       "      <td>Mi Goreng Jumbo Barbecue Chicken</td>\n",
       "      <td>Pack</td>\n",
       "      <td>Indonesia</td>\n",
       "      <td>5.00</td>\n",
       "      <td>2012 #2</td>\n",
       "    </tr>\n",
       "    <tr>\n",
       "      <th>2188</th>\n",
       "      <td>392</td>\n",
       "      <td>Nissin</td>\n",
       "      <td>Yakisoba Noodles Karashi</td>\n",
       "      <td>Tray</td>\n",
       "      <td>Japan</td>\n",
       "      <td>5.00</td>\n",
       "      <td>2012 #3</td>\n",
       "    </tr>\n",
       "    <tr>\n",
       "      <th>2567</th>\n",
       "      <td>13</td>\n",
       "      <td>Sapporo Ichiban</td>\n",
       "      <td>Chow Mein</td>\n",
       "      <td>Pack</td>\n",
       "      <td>Japan</td>\n",
       "      <td>5.00</td>\n",
       "      <td>2012 #4</td>\n",
       "    </tr>\n",
       "    <tr>\n",
       "      <th>2146</th>\n",
       "      <td>434</td>\n",
       "      <td>Mi Sedaap</td>\n",
       "      <td>Kari Spesial</td>\n",
       "      <td>Pack</td>\n",
       "      <td>Indonesia</td>\n",
       "      <td>4.50</td>\n",
       "      <td>2012 #5</td>\n",
       "    </tr>\n",
       "    <tr>\n",
       "      <th>2189</th>\n",
       "      <td>391</td>\n",
       "      <td>Myojo</td>\n",
       "      <td>Hyoubanya No Chukasoba Oriental</td>\n",
       "      <td>Pack</td>\n",
       "      <td>Japan</td>\n",
       "      <td>4.25</td>\n",
       "      <td>2012 #6</td>\n",
       "    </tr>\n",
       "    <tr>\n",
       "      <th>2002</th>\n",
       "      <td>578</td>\n",
       "      <td>Nongshim</td>\n",
       "      <td>Shin Ramyun Black</td>\n",
       "      <td>Pack</td>\n",
       "      <td>South Korea</td>\n",
       "      <td>4.75</td>\n",
       "      <td>2012 #7</td>\n",
       "    </tr>\n",
       "    <tr>\n",
       "      <th>2295</th>\n",
       "      <td>285</td>\n",
       "      <td>Doll</td>\n",
       "      <td>Artificial Chicken</td>\n",
       "      <td>Pack</td>\n",
       "      <td>Hong Kong</td>\n",
       "      <td>4.50</td>\n",
       "      <td>2012 #9</td>\n",
       "    </tr>\n",
       "  </tbody>\n",
       "</table>\n",
       "</div>"
      ],
      "text/plain": [
       "      Review #            Brand                           Variety Style  \\\n",
       "2475       105          Indomie        Special Fried Curly Noodle  Pack   \n",
       "1972       608             Koka                Spicy Black Pepper  Pack   \n",
       "2533        47          Indomie  Mi Goreng Jumbo Barbecue Chicken  Pack   \n",
       "2188       392           Nissin          Yakisoba Noodles Karashi  Tray   \n",
       "2567        13  Sapporo Ichiban                         Chow Mein  Pack   \n",
       "2146       434        Mi Sedaap                      Kari Spesial  Pack   \n",
       "2189       391            Myojo   Hyoubanya No Chukasoba Oriental  Pack   \n",
       "2002       578         Nongshim                 Shin Ramyun Black  Pack   \n",
       "2295       285             Doll                Artificial Chicken  Pack   \n",
       "\n",
       "          Country  Stars   Top Ten  \n",
       "2475    Indonesia   5.00   2012 #1  \n",
       "1972    Singapore   5.00  2012 #10  \n",
       "2533    Indonesia   5.00   2012 #2  \n",
       "2188        Japan   5.00   2012 #3  \n",
       "2567        Japan   5.00   2012 #4  \n",
       "2146    Indonesia   4.50   2012 #5  \n",
       "2189        Japan   4.25   2012 #6  \n",
       "2002  South Korea   4.75   2012 #7  \n",
       "2295    Hong Kong   4.50   2012 #9  "
      ]
     },
     "execution_count": 55,
     "metadata": {},
     "output_type": "execute_result"
    }
   ],
   "source": [
    "tp_2012 = top[4:13]\n",
    "tp_2012"
   ]
  },
  {
   "cell_type": "code",
   "execution_count": 56,
   "metadata": {},
   "outputs": [
    {
     "data": {
      "text/plain": [
       "Indonesia      3\n",
       "Japan          3\n",
       "South Korea    1\n",
       "Hong Kong      1\n",
       "Singapore      1\n",
       "Name: Country, dtype: int64"
      ]
     },
     "execution_count": 56,
     "metadata": {},
     "output_type": "execute_result"
    }
   ],
   "source": [
    "tp_2012['Country'].value_counts()"
   ]
  },
  {
   "cell_type": "code",
   "execution_count": 57,
   "metadata": {},
   "outputs": [
    {
     "data": {
      "text/plain": [
       "4.777777777777778"
      ]
     },
     "execution_count": 57,
     "metadata": {},
     "output_type": "execute_result"
    }
   ],
   "source": [
    "# The mean rating for top 10 in year 2012 is\n",
    "np.mean(np.array(tp_2012['Stars']))"
   ]
  },
  {
   "cell_type": "markdown",
   "metadata": {},
   "source": [
    "In 2012, the mean number of stars is given as 4.777777777777778. And the countries that has more products are japan and indonesia. Also most of the product are packed except one."
   ]
  },
  {
   "cell_type": "markdown",
   "metadata": {},
   "source": [
    "#### In 2016"
   ]
  },
  {
   "cell_type": "code",
   "execution_count": 58,
   "metadata": {},
   "outputs": [
    {
     "data": {
      "text/plain": [
       "array([35, 36, 37, 38, 39, 40], dtype=int32)"
      ]
     },
     "execution_count": 58,
     "metadata": {},
     "output_type": "execute_result"
    }
   ],
   "source": [
    "top_2016 = np.where(top['Top Ten'].str.contains('2016'))[0]\n",
    "top_2016"
   ]
  },
  {
   "cell_type": "code",
   "execution_count": 59,
   "metadata": {
    "scrolled": true
   },
   "outputs": [
    {
     "data": {
      "text/html": [
       "<div>\n",
       "<style scoped>\n",
       "    .dataframe tbody tr th:only-of-type {\n",
       "        vertical-align: middle;\n",
       "    }\n",
       "\n",
       "    .dataframe tbody tr th {\n",
       "        vertical-align: top;\n",
       "    }\n",
       "\n",
       "    .dataframe thead th {\n",
       "        text-align: right;\n",
       "    }\n",
       "</style>\n",
       "<table border=\"1\" class=\"dataframe\">\n",
       "  <thead>\n",
       "    <tr style=\"text-align: right;\">\n",
       "      <th></th>\n",
       "      <th>Review #</th>\n",
       "      <th>Brand</th>\n",
       "      <th>Variety</th>\n",
       "      <th>Style</th>\n",
       "      <th>Country</th>\n",
       "      <th>Stars</th>\n",
       "      <th>Top Ten</th>\n",
       "    </tr>\n",
       "  </thead>\n",
       "  <tbody>\n",
       "    <tr>\n",
       "      <th>633</th>\n",
       "      <td>1947</td>\n",
       "      <td>Prima Taste</td>\n",
       "      <td>Singapore Laksa Wholegrain La Mian</td>\n",
       "      <td>Pack</td>\n",
       "      <td>Singapore</td>\n",
       "      <td>5.0</td>\n",
       "      <td>2016 #1</td>\n",
       "    </tr>\n",
       "    <tr>\n",
       "      <th>616</th>\n",
       "      <td>1964</td>\n",
       "      <td>MAMA</td>\n",
       "      <td>Instant Noodles Coconut Milk Flavour</td>\n",
       "      <td>Pack</td>\n",
       "      <td>Myanmar</td>\n",
       "      <td>5.0</td>\n",
       "      <td>2016 #10</td>\n",
       "    </tr>\n",
       "    <tr>\n",
       "      <th>673</th>\n",
       "      <td>1907</td>\n",
       "      <td>Prima Taste</td>\n",
       "      <td>Singapore Curry Wholegrain La Mian</td>\n",
       "      <td>Pack</td>\n",
       "      <td>Singapore</td>\n",
       "      <td>5.0</td>\n",
       "      <td>2016 #5</td>\n",
       "    </tr>\n",
       "    <tr>\n",
       "      <th>891</th>\n",
       "      <td>1689</td>\n",
       "      <td>Wugudaochang</td>\n",
       "      <td>Tomato Beef Brisket Flavor Purple Potato Noodle</td>\n",
       "      <td>Pack</td>\n",
       "      <td>China</td>\n",
       "      <td>5.0</td>\n",
       "      <td>2016 #7</td>\n",
       "    </tr>\n",
       "    <tr>\n",
       "      <th>655</th>\n",
       "      <td>1925</td>\n",
       "      <td>Prima</td>\n",
       "      <td>Juzz's Mee Creamy Chicken Flavour</td>\n",
       "      <td>Pack</td>\n",
       "      <td>Singapore</td>\n",
       "      <td>5.0</td>\n",
       "      <td>2016 #8</td>\n",
       "    </tr>\n",
       "    <tr>\n",
       "      <th>752</th>\n",
       "      <td>1828</td>\n",
       "      <td>Tseng Noodles</td>\n",
       "      <td>Scallion With Sichuan Pepper  Flavor</td>\n",
       "      <td>Pack</td>\n",
       "      <td>Taiwan</td>\n",
       "      <td>5.0</td>\n",
       "      <td>2016 #9</td>\n",
       "    </tr>\n",
       "  </tbody>\n",
       "</table>\n",
       "</div>"
      ],
      "text/plain": [
       "     Review #          Brand                                          Variety  \\\n",
       "633      1947    Prima Taste               Singapore Laksa Wholegrain La Mian   \n",
       "616      1964           MAMA             Instant Noodles Coconut Milk Flavour   \n",
       "673      1907    Prima Taste               Singapore Curry Wholegrain La Mian   \n",
       "891      1689   Wugudaochang  Tomato Beef Brisket Flavor Purple Potato Noodle   \n",
       "655      1925          Prima                Juzz's Mee Creamy Chicken Flavour   \n",
       "752      1828  Tseng Noodles             Scallion With Sichuan Pepper  Flavor   \n",
       "\n",
       "    Style    Country  Stars   Top Ten  \n",
       "633  Pack  Singapore    5.0   2016 #1  \n",
       "616  Pack    Myanmar    5.0  2016 #10  \n",
       "673  Pack  Singapore    5.0   2016 #5  \n",
       "891  Pack      China    5.0   2016 #7  \n",
       "655  Pack  Singapore    5.0   2016 #8  \n",
       "752  Pack     Taiwan    5.0   2016 #9  "
      ]
     },
     "execution_count": 59,
     "metadata": {},
     "output_type": "execute_result"
    }
   ],
   "source": [
    "tp_2016 = top[35:41]\n",
    "tp_2016"
   ]
  },
  {
   "cell_type": "code",
   "execution_count": 60,
   "metadata": {},
   "outputs": [
    {
     "data": {
      "text/plain": [
       "5.0"
      ]
     },
     "execution_count": 60,
     "metadata": {},
     "output_type": "execute_result"
    }
   ],
   "source": [
    "np.mean(np.array(tp_2016['Stars']))"
   ]
  },
  {
   "cell_type": "code",
   "execution_count": 61,
   "metadata": {},
   "outputs": [
    {
     "data": {
      "text/plain": [
       "Singapore    3\n",
       "Myanmar      1\n",
       "Taiwan       1\n",
       "China        1\n",
       "Name: Country, dtype: int64"
      ]
     },
     "execution_count": 61,
     "metadata": {},
     "output_type": "execute_result"
    }
   ],
   "source": [
    "tp_2016['Country'].value_counts()"
   ]
  },
  {
   "cell_type": "markdown",
   "metadata": {},
   "source": [
    "In 2016, the mean number of stars for the top 10 is 5.0, which means the top 10 product this year were excellent. The country with the most product is Singapore and all the products were packed."
   ]
  },
  {
   "cell_type": "markdown",
   "metadata": {},
   "source": [
    "### Country"
   ]
  },
  {
   "cell_type": "code",
   "execution_count": 62,
   "metadata": {
    "scrolled": true
   },
   "outputs": [
    {
     "data": {
      "text/plain": [
       "Japan          352\n",
       "USA            323\n",
       "South Korea    309\n",
       "Taiwan         224\n",
       "Thailand       191\n",
       "China          169\n",
       "Malaysia       156\n",
       "Hong Kong      137\n",
       "Indonesia      126\n",
       "Singapore      109\n",
       "Name: Country, dtype: int64"
      ]
     },
     "execution_count": 62,
     "metadata": {},
     "output_type": "execute_result"
    }
   ],
   "source": [
    "country = rate['Country']\n",
    "country.value_counts().head(10)"
   ]
  },
  {
   "cell_type": "code",
   "execution_count": 63,
   "metadata": {},
   "outputs": [
    {
     "data": {
      "text/plain": [
       "0       3.75\n",
       "6       4.00\n",
       "7       3.75\n",
       "8       0.25\n",
       "13      4.50\n",
       "        ... \n",
       "2554    4.00\n",
       "2555    3.00\n",
       "2556    2.00\n",
       "2567    5.00\n",
       "2568    2.50\n",
       "Name: Stars, Length: 352, dtype: float64"
      ]
     },
     "execution_count": 63,
     "metadata": {},
     "output_type": "execute_result"
    }
   ],
   "source": [
    "japan = np.where(rate['Country'] == 'Japan')[0]\n",
    "japan_star = rated.loc[japan]['Stars']\n",
    "japan_star"
   ]
  },
  {
   "cell_type": "code",
   "execution_count": 64,
   "metadata": {},
   "outputs": [
    {
     "data": {
      "text/plain": [
       "3.981605113636364"
      ]
     },
     "execution_count": 64,
     "metadata": {},
     "output_type": "execute_result"
    }
   ],
   "source": [
    "mean_star = np.mean(np.array(japan_star))\n",
    "mean_star"
   ]
  },
  {
   "cell_type": "markdown",
   "metadata": {},
   "source": [
    "The country with the most product is Japan and the least is Nigeria"
   ]
  },
  {
   "cell_type": "code",
   "execution_count": 65,
   "metadata": {},
   "outputs": [
    {
     "data": {
      "text/plain": [
       "array([78], dtype=int32)"
      ]
     },
     "execution_count": 65,
     "metadata": {},
     "output_type": "execute_result"
    }
   ],
   "source": [
    "# Taking a look on Nigeria\n",
    "nigeria = np.where(rate['Country'] == 'Nigeria')[0]\n",
    "nigeria"
   ]
  },
  {
   "cell_type": "code",
   "execution_count": 66,
   "metadata": {},
   "outputs": [
    {
     "data": {
      "text/plain": [
       "Review #                    2502\n",
       "Brand                    Indomie\n",
       "Variety     Onion Chicken Flavor\n",
       "Style                       Pack\n",
       "Country                  Nigeria\n",
       "Stars                        1.5\n",
       "Top Ten                      NaN\n",
       "Name: 78, dtype: object"
      ]
     },
     "execution_count": 66,
     "metadata": {},
     "output_type": "execute_result"
    }
   ],
   "source": [
    "# Details  of Nigeria\n",
    "rate.loc[78]"
   ]
  },
  {
   "cell_type": "markdown",
   "metadata": {},
   "source": [
    "### STARS"
   ]
  },
  {
   "cell_type": "code",
   "execution_count": 67,
   "metadata": {},
   "outputs": [
    {
     "data": {
      "text/html": [
       "<div>\n",
       "<style scoped>\n",
       "    .dataframe tbody tr th:only-of-type {\n",
       "        vertical-align: middle;\n",
       "    }\n",
       "\n",
       "    .dataframe tbody tr th {\n",
       "        vertical-align: top;\n",
       "    }\n",
       "\n",
       "    .dataframe thead th {\n",
       "        text-align: right;\n",
       "    }\n",
       "</style>\n",
       "<table border=\"1\" class=\"dataframe\">\n",
       "  <thead>\n",
       "    <tr style=\"text-align: right;\">\n",
       "      <th></th>\n",
       "      <th>Brand</th>\n",
       "      <th>Variety</th>\n",
       "      <th>Style</th>\n",
       "      <th>Country</th>\n",
       "    </tr>\n",
       "    <tr>\n",
       "      <th>Stars</th>\n",
       "      <th></th>\n",
       "      <th></th>\n",
       "      <th></th>\n",
       "      <th></th>\n",
       "    </tr>\n",
       "  </thead>\n",
       "  <tbody>\n",
       "    <tr>\n",
       "      <th>0</th>\n",
       "      <td>Urban Noodle</td>\n",
       "      <td>Authentic Street Food Black Bean</td>\n",
       "      <td>Cup</td>\n",
       "      <td>UK</td>\n",
       "    </tr>\n",
       "    <tr>\n",
       "      <th>0</th>\n",
       "      <td>US Canning</td>\n",
       "      <td>Fu Chang Chinese Noodle Company Pork Seafood</td>\n",
       "      <td>Tray</td>\n",
       "      <td>USA</td>\n",
       "    </tr>\n",
       "    <tr>\n",
       "      <th>0</th>\n",
       "      <td>Baijia</td>\n",
       "      <td>Broad Noodle Pickled Vegetable Artificial Beef...</td>\n",
       "      <td>Pack</td>\n",
       "      <td>China</td>\n",
       "    </tr>\n",
       "    <tr>\n",
       "      <th>0</th>\n",
       "      <td>Thai Smile</td>\n",
       "      <td>Mushroom Rice Noodle Soup Bowl</td>\n",
       "      <td>Bowl</td>\n",
       "      <td>USA</td>\n",
       "    </tr>\n",
       "    <tr>\n",
       "      <th>0</th>\n",
       "      <td>Kim Ve Wong</td>\n",
       "      <td>Jaopai Series: Vegetarian Instant Noodles</td>\n",
       "      <td>Bowl</td>\n",
       "      <td>Taiwan</td>\n",
       "    </tr>\n",
       "  </tbody>\n",
       "</table>\n",
       "</div>"
      ],
      "text/plain": [
       "              Brand                                            Variety Style  \\\n",
       "Stars                                                                          \n",
       "0      Urban Noodle                   Authentic Street Food Black Bean   Cup   \n",
       "0        US Canning       Fu Chang Chinese Noodle Company Pork Seafood  Tray   \n",
       "0            Baijia  Broad Noodle Pickled Vegetable Artificial Beef...  Pack   \n",
       "0        Thai Smile                     Mushroom Rice Noodle Soup Bowl  Bowl   \n",
       "0       Kim Ve Wong          Jaopai Series: Vegetarian Instant Noodles  Bowl   \n",
       "\n",
       "      Country  \n",
       "Stars          \n",
       "0          UK  \n",
       "0         USA  \n",
       "0       China  \n",
       "0         USA  \n",
       "0      Taiwan  "
      ]
     },
     "execution_count": 67,
     "metadata": {},
     "output_type": "execute_result"
    }
   ],
   "source": [
    "rate_star = rate[['Brand', 'Variety', 'Style', 'Country', 'Stars']]\n",
    "rate_star = rate_star.set_index('Stars').sort_values(by='Stars')\n",
    "rate_star.head()"
   ]
  },
  {
   "cell_type": "code",
   "execution_count": 68,
   "metadata": {},
   "outputs": [
    {
     "data": {
      "text/html": [
       "<div>\n",
       "<style scoped>\n",
       "    .dataframe tbody tr th:only-of-type {\n",
       "        vertical-align: middle;\n",
       "    }\n",
       "\n",
       "    .dataframe tbody tr th {\n",
       "        vertical-align: top;\n",
       "    }\n",
       "\n",
       "    .dataframe thead th {\n",
       "        text-align: right;\n",
       "    }\n",
       "</style>\n",
       "<table border=\"1\" class=\"dataframe\">\n",
       "  <thead>\n",
       "    <tr style=\"text-align: right;\">\n",
       "      <th></th>\n",
       "      <th>Brand</th>\n",
       "      <th>Variety</th>\n",
       "      <th>Style</th>\n",
       "      <th>Country</th>\n",
       "    </tr>\n",
       "    <tr>\n",
       "      <th>Stars</th>\n",
       "      <th></th>\n",
       "      <th></th>\n",
       "      <th></th>\n",
       "      <th></th>\n",
       "    </tr>\n",
       "  </thead>\n",
       "  <tbody>\n",
       "    <tr>\n",
       "      <th>5</th>\n",
       "      <td>Chering Chang</td>\n",
       "      <td>Instant Non-Fried Noodles Shallot Pork Flavour</td>\n",
       "      <td>Pack</td>\n",
       "      <td>Taiwan</td>\n",
       "    </tr>\n",
       "    <tr>\n",
       "      <th>5</th>\n",
       "      <td>Nongshim</td>\n",
       "      <td>Jinjja Jinjja (New)</td>\n",
       "      <td>Pack</td>\n",
       "      <td>South Korea</td>\n",
       "    </tr>\n",
       "    <tr>\n",
       "      <th>5</th>\n",
       "      <td>TTL</td>\n",
       "      <td>Sesame Oil Chicken Noodle With Rice Wine</td>\n",
       "      <td>Bowl</td>\n",
       "      <td>Taiwan</td>\n",
       "    </tr>\n",
       "    <tr>\n",
       "      <th>5</th>\n",
       "      <td>Salam Mie</td>\n",
       "      <td>Mi Goreng Ala Jawa Dengan Sambal Cabe Asli</td>\n",
       "      <td>Pack</td>\n",
       "      <td>Indonesia</td>\n",
       "    </tr>\n",
       "    <tr>\n",
       "      <th>5</th>\n",
       "      <td>Mama</td>\n",
       "      <td>Instant Cup Noodles Seafood Pad Kee Mao Flavour</td>\n",
       "      <td>Cup</td>\n",
       "      <td>Thailand</td>\n",
       "    </tr>\n",
       "  </tbody>\n",
       "</table>\n",
       "</div>"
      ],
      "text/plain": [
       "               Brand                                          Variety Style  \\\n",
       "Stars                                                                         \n",
       "5      Chering Chang   Instant Non-Fried Noodles Shallot Pork Flavour  Pack   \n",
       "5           Nongshim                              Jinjja Jinjja (New)  Pack   \n",
       "5                TTL         Sesame Oil Chicken Noodle With Rice Wine  Bowl   \n",
       "5          Salam Mie       Mi Goreng Ala Jawa Dengan Sambal Cabe Asli  Pack   \n",
       "5               Mama  Instant Cup Noodles Seafood Pad Kee Mao Flavour   Cup   \n",
       "\n",
       "           Country  \n",
       "Stars               \n",
       "5           Taiwan  \n",
       "5      South Korea  \n",
       "5           Taiwan  \n",
       "5        Indonesia  \n",
       "5         Thailand  "
      ]
     },
     "execution_count": 68,
     "metadata": {},
     "output_type": "execute_result"
    }
   ],
   "source": [
    "# Maximum stars\n",
    "max_star = rate_star.loc['5']\n",
    "max_star.head()"
   ]
  },
  {
   "cell_type": "code",
   "execution_count": null,
   "metadata": {},
   "outputs": [],
   "source": []
  }
 ],
 "metadata": {
  "kernelspec": {
   "display_name": "Python 3",
   "language": "python",
   "name": "python3"
  },
  "language_info": {
   "codemirror_mode": {
    "name": "ipython",
    "version": 3
   },
   "file_extension": ".py",
   "mimetype": "text/x-python",
   "name": "python",
   "nbconvert_exporter": "python",
   "pygments_lexer": "ipython3",
   "version": "3.7.2"
  }
 },
 "nbformat": 4,
 "nbformat_minor": 2
}
